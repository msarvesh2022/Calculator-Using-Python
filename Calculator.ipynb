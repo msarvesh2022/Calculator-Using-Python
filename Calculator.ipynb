{
 "cells": [
  {
   "cell_type": "markdown",
   "id": "89124e16",
   "metadata": {},
   "source": [
    "## Basic Calculator\n",
    "### date - 5 oct , 2022"
   ]
  },
  {
   "cell_type": "code",
   "execution_count": 48,
   "id": "955402ae",
   "metadata": {},
   "outputs": [],
   "source": [
    "def add(x,y):\n",
    "    return x+y\n",
    "\n",
    "def sub(x,y):\n",
    "    return x-y\n",
    "\n",
    "def mul(x,y):\n",
    "    return x*y\n",
    "\n",
    "def div(x,y):\n",
    "    return x/y"
   ]
  },
  {
   "cell_type": "code",
   "execution_count": 52,
   "id": "a76a3a0a",
   "metadata": {},
   "outputs": [
    {
     "name": "stdout",
     "output_type": "stream",
     "text": [
      "choose the number\n",
      "      1. add\n",
      "      2. Sub\n",
      "      3.Multply\n",
      "      4.Division\n",
      "      0. Back\n",
      "choose 0/1/2/3/40\n",
      "code is done\n"
     ]
    }
   ],
   "source": [
    "while(True):\n",
    "    \n",
    "    print('''choose the number\n",
    "      1. add\n",
    "      2. Sub\n",
    "      3.Multply\n",
    "      4.Division\n",
    "      0. Back''')\n",
    "    choose = int(input('choose 0/1/2/3/4'))\n",
    "    if choose== 0 :\n",
    "        print(f\"code is done\")\n",
    "        break\n",
    "        \n",
    "    \n",
    "    \n",
    "    \n",
    "    a = int(input(\"enter the 1st number\\n\"))\n",
    "        \n",
    "    b = int(input(\"enter the 2nd number\\n\"))\n",
    "    \n",
    "    if choose ==1 :\n",
    "        print('Value of addition is ', add(a,b))\n",
    "        \n",
    "    if choose ==2 :\n",
    "        print('Value of substraction is ', sub(a,b))\n",
    "        \n",
    "    if choose ==3 :\n",
    "        print('Value of multiplication is ', mul(a,b))\n",
    "        \n",
    "    if choose ==4 :\n",
    "        print('Value of division is ', div(a,b))    \n",
    "        \n",
    "    \n",
    "        \n",
    "        \n"
   ]
  },
  {
   "cell_type": "code",
   "execution_count": 26,
   "id": "50e83e10",
   "metadata": {},
   "outputs": [
    {
     "data": {
      "text/plain": [
       "6"
      ]
     },
     "execution_count": 26,
     "metadata": {},
     "output_type": "execute_result"
    }
   ],
   "source": [
    "add(3)"
   ]
  },
  {
   "cell_type": "code",
   "execution_count": 27,
   "id": "22228735",
   "metadata": {},
   "outputs": [
    {
     "data": {
      "text/plain": [
       "14"
      ]
     },
     "execution_count": 27,
     "metadata": {},
     "output_type": "execute_result"
    }
   ],
   "source": [
    "add(7)"
   ]
  },
  {
   "cell_type": "code",
   "execution_count": 41,
   "id": "5a754ab5",
   "metadata": {},
   "outputs": [
    {
     "data": {
      "text/plain": [
       "15"
      ]
     },
     "execution_count": 41,
     "metadata": {},
     "output_type": "execute_result"
    }
   ],
   "source": [
    "add(12,3)"
   ]
  },
  {
   "cell_type": "code",
   "execution_count": 53,
   "id": "8a0b8762",
   "metadata": {},
   "outputs": [
    {
     "data": {
      "text/plain": [
       "45"
      ]
     },
     "execution_count": 53,
     "metadata": {},
     "output_type": "execute_result"
    }
   ],
   "source": [
    "mul(5,9)"
   ]
  },
  {
   "cell_type": "code",
   "execution_count": 54,
   "id": "21279cb1",
   "metadata": {},
   "outputs": [
    {
     "data": {
      "text/plain": [
       "10.0"
      ]
     },
     "execution_count": 54,
     "metadata": {},
     "output_type": "execute_result"
    }
   ],
   "source": [
    "div(50,5)"
   ]
  },
  {
   "cell_type": "code",
   "execution_count": null,
   "id": "2150fb81",
   "metadata": {},
   "outputs": [],
   "source": []
  }
 ],
 "metadata": {
  "kernelspec": {
   "display_name": "Python 3 (ipykernel)",
   "language": "python",
   "name": "python3"
  },
  "language_info": {
   "codemirror_mode": {
    "name": "ipython",
    "version": 3
   },
   "file_extension": ".py",
   "mimetype": "text/x-python",
   "name": "python",
   "nbconvert_exporter": "python",
   "pygments_lexer": "ipython3",
   "version": "3.9.6"
  }
 },
 "nbformat": 4,
 "nbformat_minor": 5
}
